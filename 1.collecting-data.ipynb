{
 "cells": [
  {
   "cell_type": "markdown",
   "metadata": {
    "slideshow": {
     "slide_type": "slide"
    }
   },
   "source": [
    "# Data collection\n",
    "\n",
    "The goal of this presentation is to automate data collection.\n",
    "We need some historical data to build our model and predict electrical consumption in Paris for J+1.   \n",
    "Basically we need to collect as much interesting data as possible, starting from nothing."
   ]
  },
  {
   "cell_type": "markdown",
   "metadata": {
    "slideshow": {
     "slide_type": "fragment"
    }
   },
   "source": [
    "### Expected output\n",
    "\n",
    "Datasets saved on our computer with file formats easily readable by python : csv, json, xml, excel"
   ]
  },
  {
   "cell_type": "markdown",
   "metadata": {},
   "source": [
    "### Quizz (5 minutes) : What kind of data might be interesting to make a prediction ?"
   ]
  },
  {
   "cell_type": "markdown",
   "metadata": {},
   "source": [
    "### Workshop (15 minutes) : Try to collect the data\n",
    "\n",
    "- Historical data\n",
    "- Historical weather\n",
    "- Population in Paris\n",
    "- Trafic \n",
    "- Days off \n",
    "- Bridge\n",
    "- Special events \n",
    "- Holidays"
   ]
  },
  {
   "cell_type": "markdown",
   "metadata": {},
   "source": [
    "\n",
    "### Easy : Historical electrical consumption\n",
    "\n",
    "[Electrical consumption in île-de-France between 2013 and 2017](https://rte-opendata.opendatasoft.com/explore/dataset/eco2mix_regional_cons_def/export/?disjunctive.libelle_region&disjunctive.nature&sort=-date_heure&refine.libelle_region=Ile-de-France)"
   ]
  },
  {
   "cell_type": "code",
   "execution_count": 2,
   "metadata": {},
   "outputs": [],
   "source": [
    "import pandas as pd"
   ]
  },
  {
   "cell_type": "code",
   "execution_count": 3,
   "metadata": {},
   "outputs": [],
   "source": [
    "consumption = pd.read_csv(\"./data/eco2mix-regional-cons-def.csv\",delimiter=\";\")"
   ]
  },
  {
   "cell_type": "code",
   "execution_count": 4,
   "metadata": {},
   "outputs": [
    {
     "data": {
      "text/html": [
       "<div>\n",
       "<style scoped>\n",
       "    .dataframe tbody tr th:only-of-type {\n",
       "        vertical-align: middle;\n",
       "    }\n",
       "\n",
       "    .dataframe tbody tr th {\n",
       "        vertical-align: top;\n",
       "    }\n",
       "\n",
       "    .dataframe thead th {\n",
       "        text-align: right;\n",
       "    }\n",
       "</style>\n",
       "<table border=\"1\" class=\"dataframe\">\n",
       "  <thead>\n",
       "    <tr style=\"text-align: right;\">\n",
       "      <th></th>\n",
       "      <th>Code INSEE région</th>\n",
       "      <th>Région</th>\n",
       "      <th>Nature</th>\n",
       "      <th>Date</th>\n",
       "      <th>Heure</th>\n",
       "      <th>Date - Heure</th>\n",
       "      <th>Consommation (MW)</th>\n",
       "      <th>Thermique (MW)</th>\n",
       "      <th>Nucléaire (MW)</th>\n",
       "      <th>Eolien (MW)</th>\n",
       "      <th>Solaire (MW)</th>\n",
       "      <th>Hydraulique (MW)</th>\n",
       "      <th>Pompage (MW)</th>\n",
       "      <th>Bioénergies (MW)</th>\n",
       "      <th>Ech. physiques (MW)</th>\n",
       "    </tr>\n",
       "  </thead>\n",
       "  <tbody>\n",
       "    <tr>\n",
       "      <th>0</th>\n",
       "      <td>11</td>\n",
       "      <td>Ile-de-France</td>\n",
       "      <td>Données consolidées</td>\n",
       "      <td>2018-01-31</td>\n",
       "      <td>20:00</td>\n",
       "      <td>2018-01-31T20:00:00+01:00</td>\n",
       "      <td>11283.0</td>\n",
       "      <td>287.0</td>\n",
       "      <td>NaN</td>\n",
       "      <td>39.0</td>\n",
       "      <td>0.0</td>\n",
       "      <td>0.0</td>\n",
       "      <td>NaN</td>\n",
       "      <td>150.0</td>\n",
       "      <td>10807.0</td>\n",
       "    </tr>\n",
       "    <tr>\n",
       "      <th>1</th>\n",
       "      <td>11</td>\n",
       "      <td>Ile-de-France</td>\n",
       "      <td>Données consolidées</td>\n",
       "      <td>2018-01-31</td>\n",
       "      <td>20:30</td>\n",
       "      <td>2018-01-31T20:30:00+01:00</td>\n",
       "      <td>10863.0</td>\n",
       "      <td>288.0</td>\n",
       "      <td>NaN</td>\n",
       "      <td>42.0</td>\n",
       "      <td>0.0</td>\n",
       "      <td>0.0</td>\n",
       "      <td>NaN</td>\n",
       "      <td>152.0</td>\n",
       "      <td>10381.0</td>\n",
       "    </tr>\n",
       "    <tr>\n",
       "      <th>2</th>\n",
       "      <td>11</td>\n",
       "      <td>Ile-de-France</td>\n",
       "      <td>Données consolidées</td>\n",
       "      <td>2018-01-31</td>\n",
       "      <td>21:30</td>\n",
       "      <td>2018-01-31T21:30:00+01:00</td>\n",
       "      <td>9896.0</td>\n",
       "      <td>291.0</td>\n",
       "      <td>NaN</td>\n",
       "      <td>40.0</td>\n",
       "      <td>0.0</td>\n",
       "      <td>0.0</td>\n",
       "      <td>NaN</td>\n",
       "      <td>152.0</td>\n",
       "      <td>9414.0</td>\n",
       "    </tr>\n",
       "    <tr>\n",
       "      <th>3</th>\n",
       "      <td>11</td>\n",
       "      <td>Ile-de-France</td>\n",
       "      <td>Données consolidées</td>\n",
       "      <td>2018-02-01</td>\n",
       "      <td>00:30</td>\n",
       "      <td>2018-02-01T00:30:00+01:00</td>\n",
       "      <td>9184.0</td>\n",
       "      <td>293.0</td>\n",
       "      <td>NaN</td>\n",
       "      <td>22.0</td>\n",
       "      <td>0.0</td>\n",
       "      <td>0.0</td>\n",
       "      <td>NaN</td>\n",
       "      <td>156.0</td>\n",
       "      <td>8713.0</td>\n",
       "    </tr>\n",
       "    <tr>\n",
       "      <th>4</th>\n",
       "      <td>11</td>\n",
       "      <td>Ile-de-France</td>\n",
       "      <td>Données consolidées</td>\n",
       "      <td>2018-02-01</td>\n",
       "      <td>02:30</td>\n",
       "      <td>2018-02-01T02:30:00+01:00</td>\n",
       "      <td>8062.0</td>\n",
       "      <td>298.0</td>\n",
       "      <td>NaN</td>\n",
       "      <td>18.0</td>\n",
       "      <td>0.0</td>\n",
       "      <td>0.0</td>\n",
       "      <td>NaN</td>\n",
       "      <td>155.0</td>\n",
       "      <td>7590.0</td>\n",
       "    </tr>\n",
       "  </tbody>\n",
       "</table>\n",
       "</div>"
      ],
      "text/plain": [
       "   Code INSEE région         Région               Nature        Date  Heure  \\\n",
       "0                 11  Ile-de-France  Données consolidées  2018-01-31  20:00   \n",
       "1                 11  Ile-de-France  Données consolidées  2018-01-31  20:30   \n",
       "2                 11  Ile-de-France  Données consolidées  2018-01-31  21:30   \n",
       "3                 11  Ile-de-France  Données consolidées  2018-02-01  00:30   \n",
       "4                 11  Ile-de-France  Données consolidées  2018-02-01  02:30   \n",
       "\n",
       "                Date - Heure  Consommation (MW)  Thermique (MW)  \\\n",
       "0  2018-01-31T20:00:00+01:00            11283.0           287.0   \n",
       "1  2018-01-31T20:30:00+01:00            10863.0           288.0   \n",
       "2  2018-01-31T21:30:00+01:00             9896.0           291.0   \n",
       "3  2018-02-01T00:30:00+01:00             9184.0           293.0   \n",
       "4  2018-02-01T02:30:00+01:00             8062.0           298.0   \n",
       "\n",
       "   Nucléaire (MW)  Eolien (MW)  Solaire (MW)  Hydraulique (MW)  Pompage (MW)  \\\n",
       "0             NaN         39.0           0.0               0.0           NaN   \n",
       "1             NaN         42.0           0.0               0.0           NaN   \n",
       "2             NaN         40.0           0.0               0.0           NaN   \n",
       "3             NaN         22.0           0.0               0.0           NaN   \n",
       "4             NaN         18.0           0.0               0.0           NaN   \n",
       "\n",
       "   Bioénergies (MW)  Ech. physiques (MW)  \n",
       "0             150.0              10807.0  \n",
       "1             152.0              10381.0  \n",
       "2             152.0               9414.0  \n",
       "3             156.0               8713.0  \n",
       "4             155.0               7590.0  "
      ]
     },
     "execution_count": 4,
     "metadata": {},
     "output_type": "execute_result"
    }
   ],
   "source": [
    "consumption.head()"
   ]
  },
  {
   "cell_type": "markdown",
   "metadata": {},
   "source": [
    "### Less easy : Historical weather\n",
    "\n",
    "Not enough data : [Prévision Météo - Paris - AROME](https://public.opendatasoft.com/explore/dataset/arome-0025-sp1_sp2_paris/export/)  \n",
    "Let's pay for some data ! [Openweather map API](https://openweathermap.org/history-bulk) (10$ for 5 years of weather in paris : a bargain !)\n"
   ]
  },
  {
   "cell_type": "code",
   "execution_count": 5,
   "metadata": {},
   "outputs": [],
   "source": [
    "weather = pd.read_csv(\"./data/meteo-paris.csv\")"
   ]
  },
  {
   "cell_type": "code",
   "execution_count": 6,
   "metadata": {},
   "outputs": [
    {
     "data": {
      "text/html": [
       "<div>\n",
       "<style scoped>\n",
       "    .dataframe tbody tr th:only-of-type {\n",
       "        vertical-align: middle;\n",
       "    }\n",
       "\n",
       "    .dataframe tbody tr th {\n",
       "        vertical-align: top;\n",
       "    }\n",
       "\n",
       "    .dataframe thead th {\n",
       "        text-align: right;\n",
       "    }\n",
       "</style>\n",
       "<table border=\"1\" class=\"dataframe\">\n",
       "  <thead>\n",
       "    <tr style=\"text-align: right;\">\n",
       "      <th></th>\n",
       "      <th>Unnamed: 0</th>\n",
       "      <th>dt_iso</th>\n",
       "      <th>city_id</th>\n",
       "      <th>city_name</th>\n",
       "      <th>lat</th>\n",
       "      <th>lon</th>\n",
       "      <th>temp</th>\n",
       "      <th>temp_min</th>\n",
       "      <th>temp_max</th>\n",
       "      <th>pressure</th>\n",
       "      <th>...</th>\n",
       "      <th>snow_1h</th>\n",
       "      <th>snow_3h</th>\n",
       "      <th>snow_24h</th>\n",
       "      <th>snow_today</th>\n",
       "      <th>clouds_all</th>\n",
       "      <th>weather_id</th>\n",
       "      <th>weather_main</th>\n",
       "      <th>weather_description</th>\n",
       "      <th>weather_icon</th>\n",
       "      <th>Date</th>\n",
       "    </tr>\n",
       "  </thead>\n",
       "  <tbody>\n",
       "    <tr>\n",
       "      <th>0</th>\n",
       "      <td>0</td>\n",
       "      <td>2013-03-13 02:00:00 +0000 UTC</td>\n",
       "      <td>2988507</td>\n",
       "      <td>NaN</td>\n",
       "      <td>NaN</td>\n",
       "      <td>NaN</td>\n",
       "      <td>272.94</td>\n",
       "      <td>272.15</td>\n",
       "      <td>273.71</td>\n",
       "      <td>993</td>\n",
       "      <td>...</td>\n",
       "      <td>NaN</td>\n",
       "      <td>NaN</td>\n",
       "      <td>NaN</td>\n",
       "      <td>NaN</td>\n",
       "      <td>90</td>\n",
       "      <td>500</td>\n",
       "      <td>Rain</td>\n",
       "      <td>light rain</td>\n",
       "      <td>10n</td>\n",
       "      <td>2013-03-13 03:00:00</td>\n",
       "    </tr>\n",
       "    <tr>\n",
       "      <th>1</th>\n",
       "      <td>1</td>\n",
       "      <td>2013-03-13 02:00:00 +0000 UTC</td>\n",
       "      <td>2988507</td>\n",
       "      <td>NaN</td>\n",
       "      <td>NaN</td>\n",
       "      <td>NaN</td>\n",
       "      <td>272.94</td>\n",
       "      <td>272.15</td>\n",
       "      <td>273.71</td>\n",
       "      <td>993</td>\n",
       "      <td>...</td>\n",
       "      <td>NaN</td>\n",
       "      <td>NaN</td>\n",
       "      <td>NaN</td>\n",
       "      <td>NaN</td>\n",
       "      <td>90</td>\n",
       "      <td>701</td>\n",
       "      <td>Mist</td>\n",
       "      <td>mist</td>\n",
       "      <td>50n</td>\n",
       "      <td>2013-03-13 03:00:00</td>\n",
       "    </tr>\n",
       "    <tr>\n",
       "      <th>2</th>\n",
       "      <td>2</td>\n",
       "      <td>2013-03-13 03:00:00 +0000 UTC</td>\n",
       "      <td>2988507</td>\n",
       "      <td>NaN</td>\n",
       "      <td>NaN</td>\n",
       "      <td>NaN</td>\n",
       "      <td>272.69</td>\n",
       "      <td>272.15</td>\n",
       "      <td>273.15</td>\n",
       "      <td>993</td>\n",
       "      <td>...</td>\n",
       "      <td>NaN</td>\n",
       "      <td>NaN</td>\n",
       "      <td>NaN</td>\n",
       "      <td>NaN</td>\n",
       "      <td>90</td>\n",
       "      <td>500</td>\n",
       "      <td>Rain</td>\n",
       "      <td>light rain</td>\n",
       "      <td>10n</td>\n",
       "      <td>2013-03-13 04:00:00</td>\n",
       "    </tr>\n",
       "    <tr>\n",
       "      <th>3</th>\n",
       "      <td>3</td>\n",
       "      <td>2013-03-13 03:00:00 +0000 UTC</td>\n",
       "      <td>2988507</td>\n",
       "      <td>NaN</td>\n",
       "      <td>NaN</td>\n",
       "      <td>NaN</td>\n",
       "      <td>272.69</td>\n",
       "      <td>272.15</td>\n",
       "      <td>273.15</td>\n",
       "      <td>993</td>\n",
       "      <td>...</td>\n",
       "      <td>NaN</td>\n",
       "      <td>NaN</td>\n",
       "      <td>NaN</td>\n",
       "      <td>NaN</td>\n",
       "      <td>90</td>\n",
       "      <td>701</td>\n",
       "      <td>Mist</td>\n",
       "      <td>mist</td>\n",
       "      <td>50n</td>\n",
       "      <td>2013-03-13 04:00:00</td>\n",
       "    </tr>\n",
       "    <tr>\n",
       "      <th>4</th>\n",
       "      <td>4</td>\n",
       "      <td>2013-03-13 03:00:00 +0000 UTC</td>\n",
       "      <td>2988507</td>\n",
       "      <td>NaN</td>\n",
       "      <td>NaN</td>\n",
       "      <td>NaN</td>\n",
       "      <td>272.69</td>\n",
       "      <td>272.15</td>\n",
       "      <td>273.15</td>\n",
       "      <td>993</td>\n",
       "      <td>...</td>\n",
       "      <td>NaN</td>\n",
       "      <td>NaN</td>\n",
       "      <td>NaN</td>\n",
       "      <td>NaN</td>\n",
       "      <td>90</td>\n",
       "      <td>602</td>\n",
       "      <td>Snow</td>\n",
       "      <td>heavy snow</td>\n",
       "      <td>13n</td>\n",
       "      <td>2013-03-13 04:00:00</td>\n",
       "    </tr>\n",
       "  </tbody>\n",
       "</table>\n",
       "<p>5 rows × 29 columns</p>\n",
       "</div>"
      ],
      "text/plain": [
       "   Unnamed: 0                         dt_iso  city_id  city_name  lat  lon  \\\n",
       "0           0  2013-03-13 02:00:00 +0000 UTC  2988507        NaN  NaN  NaN   \n",
       "1           1  2013-03-13 02:00:00 +0000 UTC  2988507        NaN  NaN  NaN   \n",
       "2           2  2013-03-13 03:00:00 +0000 UTC  2988507        NaN  NaN  NaN   \n",
       "3           3  2013-03-13 03:00:00 +0000 UTC  2988507        NaN  NaN  NaN   \n",
       "4           4  2013-03-13 03:00:00 +0000 UTC  2988507        NaN  NaN  NaN   \n",
       "\n",
       "     temp  temp_min  temp_max  pressure         ...           snow_1h  \\\n",
       "0  272.94    272.15    273.71       993         ...               NaN   \n",
       "1  272.94    272.15    273.71       993         ...               NaN   \n",
       "2  272.69    272.15    273.15       993         ...               NaN   \n",
       "3  272.69    272.15    273.15       993         ...               NaN   \n",
       "4  272.69    272.15    273.15       993         ...               NaN   \n",
       "\n",
       "   snow_3h  snow_24h  snow_today  clouds_all  weather_id  weather_main  \\\n",
       "0      NaN       NaN         NaN          90         500          Rain   \n",
       "1      NaN       NaN         NaN          90         701          Mist   \n",
       "2      NaN       NaN         NaN          90         500          Rain   \n",
       "3      NaN       NaN         NaN          90         701          Mist   \n",
       "4      NaN       NaN         NaN          90         602          Snow   \n",
       "\n",
       "   weather_description  weather_icon                 Date  \n",
       "0           light rain           10n  2013-03-13 03:00:00  \n",
       "1                 mist           50n  2013-03-13 03:00:00  \n",
       "2           light rain           10n  2013-03-13 04:00:00  \n",
       "3                 mist           50n  2013-03-13 04:00:00  \n",
       "4           heavy snow           13n  2013-03-13 04:00:00  \n",
       "\n",
       "[5 rows x 29 columns]"
      ]
     },
     "execution_count": 6,
     "metadata": {},
     "output_type": "execute_result"
    }
   ],
   "source": [
    "weather.head()"
   ]
  },
  {
   "cell_type": "markdown",
   "metadata": {},
   "source": [
    "# Days off in France\n",
    "\n",
    "No dataset easily available, we are going to scrap the web :\n",
    "https://www.calendrier-365.fr"
   ]
  },
  {
   "cell_type": "code",
   "execution_count": 8,
   "metadata": {},
   "outputs": [],
   "source": [
    "import requests\n",
    "from bs4 import BeautifulSoup\n",
    "from datetime import datetime, timedelta"
   ]
  },
  {
   "cell_type": "code",
   "execution_count": 9,
   "metadata": {},
   "outputs": [],
   "source": [
    "# scrap https://www.calendrier-365.fr"
   ]
  },
  {
   "cell_type": "code",
   "execution_count": 10,
   "metadata": {},
   "outputs": [],
   "source": [
    "response = requests.get(\"https://www.calendrier-365.fr/jours-feries/2018.html\")"
   ]
  },
  {
   "cell_type": "markdown",
   "metadata": {},
   "source": [
    "## Using regex"
   ]
  },
  {
   "cell_type": "code",
   "execution_count": 11,
   "metadata": {},
   "outputs": [
    {
     "data": {
      "text/plain": [
       "['data-value=\"1514761200\"',\n",
       " 'data-value=\"1515193200\"',\n",
       " 'data-value=\"1518476400\"',\n",
       " 'data-value=\"1518562800\"',\n",
       " 'data-value=\"1522533600\"',\n",
       " 'data-value=\"1522533600\"',\n",
       " 'data-value=\"1522620000\"',\n",
       " 'data-value=\"1525125600\"',\n",
       " 'data-value=\"1525730400\"',\n",
       " 'data-value=\"1525903200\"',\n",
       " 'data-value=\"1526767200\"',\n",
       " 'data-value=\"1526767200\"',\n",
       " 'data-value=\"1526853600\"',\n",
       " 'data-value=\"1531519200\"',\n",
       " 'data-value=\"1534284000\"',\n",
       " 'data-value=\"1541026800\"',\n",
       " 'data-value=\"1541890800\"',\n",
       " 'data-value=\"1545692400\"',\n",
       " 'data-value=\"1546210800\"']"
      ]
     },
     "execution_count": 11,
     "metadata": {},
     "output_type": "execute_result"
    }
   ],
   "source": [
    "import re \n",
    "\n",
    "matches = re.findall('data-value=\\\"\\d{2,}\\\"', response.text)\n",
    "matches"
   ]
  },
  {
   "cell_type": "markdown",
   "metadata": {},
   "source": [
    "## Using beautifulsoup"
   ]
  },
  {
   "cell_type": "code",
   "execution_count": 12,
   "metadata": {},
   "outputs": [],
   "source": [
    "from bs4 import BeautifulSoup\n",
    "from datetime import datetime\n",
    "\n",
    "results = []\n",
    "\n",
    "for year in range(2008,2019):\n",
    "    url = 'https://www.calendrier-365.fr/jours-feries/{}.html'.format(year)\n",
    "    response = requests.get(url)\n",
    "    soup = BeautifulSoup(response.text,\"lxml\")\n",
    "    for element in soup.find_all(\"td\",{\"class\":\"dtr tar\"}):\n",
    "        new_date = datetime.fromtimestamp(int(element[\"data-value\"])).strftime(\"%d-%m-%Y\")\n",
    "        results.append(new_date)"
   ]
  },
  {
   "cell_type": "markdown",
   "metadata": {},
   "source": [
    "# Requesting strikes in Paris"
   ]
  },
  {
   "cell_type": "code",
   "execution_count": 13,
   "metadata": {},
   "outputs": [
    {
     "name": "stdout",
     "output_type": "stream",
     "text": [
      "['1790-07-14', '1790-07-14', '1794-06-08', '1832-06-05', '1832-06-05', '1832-06-05', '1832-06-05', '1840-12-15', '1840-12-15', '1869-10-08', '1869-10-08', '1877-09-08', '1877-09-08', '1885-06-01', '1891-05-01', '1894-07-01', '1908-07', '1908-07', '1908-07', '1931-01-07', '1934-02-12', '1935-07-14', '1936-05-24', '1944-08-26', '1944-08-26', '1951-02', '1953-07-14', '1961-10-17', '1962-02-13', '1968-05-13', '1968-05-30', '1976-03-04', '1977-07-31', '1983-10-15', '1984-03-04', '1984-06-24', '1986-12-04', '1986-12-10', '1989-07-14', '1994-01-16', '1995-12-12', '1998-07-13', '2002-05-01', '2002-05-01', '2003-06-28', '2003-05-13', '2003-06-03', '2004-06-26', '2005-06-25', '2006-03-18', '2006-03-28', '2006-06-24', '2007-06-30', '2008-06-28', '2009-01-29', '2009-03-19', '2009-06-27', '2010-03-23', '2010-05-27', '2010-06-24', '2010-09-07', '2010-09-23', '2010-10-02', '2010-10-12', '2010-10-16', '2010-10-19', '2010-10-28', '2010-11-06', '2010-06-26', '2011-06-25', '2012-06-30', '2013-01-13', '2013-03-24', '2013-05-26', '2014-02-02', '2014-10-05', '2015-01-10', '2016-03-31', '2016-06-14', '2017-12-09', '2015-01-12', '2015-01-12']\n"
     ]
    }
   ],
   "source": [
    "from bs4 import BeautifulSoup\n",
    "import requests\n",
    "import datetime\n",
    "\n",
    "strikes = []\n",
    "\n",
    "url = \"https://fr.wikipedia.org/wiki/Liste_des_manifestations_les_plus_importantes_en_France\"\n",
    "response = requests.get(url)\n",
    "soup = BeautifulSoup(response.text,\"lxml\")\n",
    "for table in soup.find_all(\"table\"):\n",
    "    for x in table.find_all(\"tr\"):\n",
    "        date=x.find_next(\"time\")\n",
    "        strikes.append(date.attrs[\"datetime\"])\n",
    "\n",
    "print(strikes)"
   ]
  },
  {
   "cell_type": "code",
   "execution_count": null,
   "metadata": {},
   "outputs": [],
   "source": []
  }
 ],
 "metadata": {
  "kernelspec": {
   "display_name": "Python 2",
   "language": "python",
   "name": "python2"
  },
  "language_info": {
   "codemirror_mode": {
    "name": "ipython",
    "version": 3
   },
   "file_extension": ".py",
   "mimetype": "text/x-python",
   "name": "python",
   "nbconvert_exporter": "python",
   "pygments_lexer": "ipython3",
   "version": "3.6.5"
  }
 },
 "nbformat": 4,
 "nbformat_minor": 2
}
