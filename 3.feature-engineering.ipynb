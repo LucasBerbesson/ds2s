{
 "cells": [
  {
   "cell_type": "markdown",
   "metadata": {
    "slideshow": {
     "slide_type": "slide"
    }
   },
   "source": [
    "# Feature Engineering\n",
    "\n",
    "> Feature engineering is the process of using domain knowledge of the data to create features that make machine learning algorithms work. (wikipedia)\n",
    "\n",
    "\n",
    "## Workshop : find some new features (15min)\n",
    "Only use available data: \n",
    "- Consumption for each day\n",
    "- Temperature for each day\n",
    "- is_day_off function\n"
   ]
  },
  {
   "cell_type": "code",
   "execution_count": 23,
   "metadata": {
    "slideshow": {
     "slide_type": "slide"
    }
   },
   "outputs": [],
   "source": [
    "import seaborn as sns\n",
    "import matplotlib.pyplot as plt\n",
    "%matplotlib inline\n",
    "import pandas as pd\n",
    "from datetime import datetime, timedelta\n",
    "\n",
    "df = pd.read_csv(\"./data/after_cleaning.csv\",parse_dates=[\"Date\"])"
   ]
  },
  {
   "cell_type": "markdown",
   "metadata": {},
   "source": [
    "# Day, week, month, year"
   ]
  },
  {
   "cell_type": "code",
   "execution_count": 6,
   "metadata": {},
   "outputs": [],
   "source": [
    "df['weekday']=df['Date'].dt.weekday\n",
    "df['year']=df['Date'].dt.year\n",
    "df['month']=df['Date'].dt.month"
   ]
  },
  {
   "cell_type": "code",
   "execution_count": 8,
   "metadata": {},
   "outputs": [
    {
     "data": {
      "text/plain": [
       "<matplotlib.axes._subplots.AxesSubplot at 0x1035d3b00>"
      ]
     },
     "execution_count": 8,
     "metadata": {},
     "output_type": "execute_result"
    },
    {
     "data": {
      "image/png": "[encoded data removed]",
      "text/plain": [
       "<Figure size 864x504 with 1 Axes>"
      ]
     },
     "metadata": {},
     "output_type": "display_data"
    }
   ],
   "source": [
    "plt.figure(figsize=(12, 7))\n",
    "sns.boxplot(x='weekday',y='Conso',data=df)"
   ]
  },
  {
   "cell_type": "markdown",
   "metadata": {
    "slideshow": {
     "slide_type": "fragment"
    }
   },
   "source": [
    "# Lags\n"
   ]
  },
  {
   "cell_type": "code",
   "execution_count": 11,
   "metadata": {},
   "outputs": [],
   "source": [
    "df[\"Conso_lag_1_day\"] = df[\"Conso\"].shift(48)"
   ]
  },
  {
   "cell_type": "code",
   "execution_count": 12,
   "metadata": {},
   "outputs": [
    {
     "data": {
      "text/plain": [
       "'file:///Users/lucasberbesson/code/ds2s/temp-plot.html'"
      ]
     },
     "execution_count": 12,
     "metadata": {},
     "output_type": "execute_result"
    }
   ],
   "source": [
    "import plotly.offline as py\n",
    "import plotly.graph_objs as go\n",
    "\n",
    "data = [go.Scatter( x=df[:200]['Date'], y=(df[:200]['Conso'])),go.Scatter( x=df[:200]['Date'], y=(df[:200]['Conso_lag_1_day']))]\n",
    "py.plot(data)"
   ]
  },
  {
   "cell_type": "markdown",
   "metadata": {},
   "source": [
    "# Days off"
   ]
  },
  {
   "cell_type": "code",
   "execution_count": 14,
   "metadata": {},
   "outputs": [],
   "source": [
    "days_off = ['2013-01-01', '2013-01-06', '2013-02-12', '2013-02-14', '2013-03-31', '2013-03-31', '2013-04-01',\n",
    " '2013-05-01', '2013-05-08', '2013-05-09', '2013-05-19', '2013-05-19', '2013-05-20', '2013-07-14',\n",
    " '2013-08-15', '2013-11-01', '2013-11-11', '2013-12-25', '2013-12-31', '2014-01-01', '2014-01-06',\n",
    " '2014-02-14', '2014-03-04', '2014-04-20', '2014-04-20', '2014-04-21', '2014-05-01', '2014-05-08',\n",
    " '2014-05-29', '2014-06-08', '2014-06-08', '2014-06-09', '2014-07-14', '2014-08-15', '2014-11-01',\n",
    " '2014-11-11', '2014-12-25', '2014-12-31', '2015-01-01', '2015-01-06', '2015-02-14', '2015-02-17',\n",
    " '2015-04-05', '2015-04-05', '2015-04-06', '2015-05-01', '2015-05-08', '2015-05-14', '2015-05-24',\n",
    " '2015-05-24', '2015-05-25', '2015-07-14', '2015-08-15', '2015-11-01', '2015-11-11', '2015-12-25',\n",
    " '2015-12-31', '2016-01-01', '2016-01-06', '2016-02-09', '2016-02-14', '2016-03-27', '2016-03-27',\n",
    " '2016-03-28', '2016-05-01', '2016-05-05', '2016-05-08', '2016-05-15', '2016-05-15', '2016-05-16',\n",
    " '2016-07-14', '2016-08-15', '2016-11-01', '2016-11-11', '2016-12-25', '2016-12-31', '2017-01-01',\n",
    " '2017-01-06', '2017-02-14', '2017-02-28', '2017-04-16', '2017-04-16', '2017-04-17', '2017-05-01',\n",
    " '2017-05-08', '2017-05-25', '2017-06-04', '2017-06-04', '2017-06-05', '2017-07-14', '2017-08-15',\n",
    " '2017-11-01', '2017-11-11', '2017-12-25', '2017-12-31', '2018-01-01', '2018-01-06', '2018-02-13',\n",
    " '2018-02-14', '2018-04-01', '2018-04-01', '2018-04-02', '2018-05-01', '2018-05-08', '2018-05-10',\n",
    " '2018-05-20', '2018-05-20', '2018-05-21', '2018-07-14', '2018-08-15', '2018-11-01', '2018-11-11',\n",
    " '2018-12-25', '2018-12-31', '2019-01-01', '2019-01-06', '2019-02-14', '2019-03-05', '2019-04-21',\n",
    " '2019-04-21', '2019-04-22', '2019-05-01', '2019-05-08', '2019-05-30', '2019-06-09', '2019-06-09',\n",
    " '2019-06-10', '2019-07-14', '2019-08-15', '2019-11-01', '2019-11-11', '2019-12-25', '2019-12-31']\n"
   ]
  },
  {
   "cell_type": "code",
   "execution_count": 15,
   "metadata": {},
   "outputs": [],
   "source": [
    "def is_day_off(date):\n",
    "    return int(date.strftime('%Y-%m-%D') in days_off)\n",
    "\n",
    "df['is_day_off'] = df['Date'].apply(is_day_off)"
   ]
  },
  {
   "cell_type": "markdown",
   "metadata": {},
   "source": [
    "# Heating and cooling degrees"
   ]
  },
  {
   "cell_type": "code",
   "execution_count": 16,
   "metadata": {},
   "outputs": [],
   "source": [
    "def heating_degrees(temp):\n",
    "    \"\"\"\n",
    "    A heating degree day (HDD) is a measurement designed \n",
    "    to quantify the demand for energy needed to heat a building. \n",
    "    It is the number of degrees a temperature is below 18°C,\n",
    "    which is the temperature below which buildings need to be heated. \n",
    "    \"\"\"\n",
    "    return max(0,18-temp)\n",
    "\n",
    "def cooling_degrees(temp):\n",
    "    \"\"\"\n",
    "    A cooling degree day (CDD) is a measurement designed \n",
    "    to quantify the demand for energy needed to cool a building.\n",
    "    It is the number of degrees that a temperature is above 24°C,\n",
    "    \"\"\"\n",
    "    return max(0,temp-24)\n",
    "\n",
    "# heating_degrees(18) => 0\n",
    "# heating_degrees(20) => 0\n",
    "# heating_degrees(10) => 8"
   ]
  },
  {
   "cell_type": "code",
   "execution_count": 17,
   "metadata": {},
   "outputs": [],
   "source": [
    "assert heating_degrees(10) == 8\n",
    "assert cooling_degrees(10) == 0"
   ]
  },
  {
   "cell_type": "code",
   "execution_count": 18,
   "metadata": {},
   "outputs": [],
   "source": [
    "df[\"heating_degrees\"] = df[\"Temp\"].apply(heating_degrees)\n",
    "df[\"cooling_degrees\"] = df[\"Temp\"].apply(cooling_degrees)"
   ]
  },
  {
   "cell_type": "markdown",
   "metadata": {},
   "source": [
    "# is_weekend"
   ]
  },
  {
   "cell_type": "code",
   "execution_count": 19,
   "metadata": {},
   "outputs": [],
   "source": [
    "df['is_weekend'] = (df['weekday'] > 4).astype(int)"
   ]
  },
  {
   "cell_type": "markdown",
   "metadata": {},
   "source": [
    "# consumption_rolling_3_days"
   ]
  },
  {
   "cell_type": "code",
   "execution_count": 21,
   "metadata": {},
   "outputs": [],
   "source": [
    "df[\"consumption_rolling_3_days\"] = df[\"Conso\"].rolling(window=48*3).mean()"
   ]
  },
  {
   "cell_type": "markdown",
   "metadata": {},
   "source": [
    "# Is bridge"
   ]
  },
  {
   "cell_type": "code",
   "execution_count": 24,
   "metadata": {},
   "outputs": [],
   "source": [
    "def is_bridge(date):\n",
    "    \"\"\"\n",
    "    Check if a datetime is a holiday bridge \n",
    "    (friday with thursday off or mondy with tuesday off)\n",
    "    \"\"\"\n",
    "    weekday = date.weekday()\n",
    "    if weekday == 4:\n",
    "        return is_day_off(date-timedelta(days=1))\n",
    "    elif weekday == 0:\n",
    "        return is_day_off(date+timedelta(days=1))\n",
    "    return 0\n",
    "\n",
    "df['is_bridge'] = df['Date'].apply(is_bridge)"
   ]
  },
  {
   "cell_type": "code",
   "execution_count": null,
   "metadata": {},
   "outputs": [],
   "source": []
  }
 ],
 "metadata": {
  "celltoolbar": "Slideshow",
  "kernelspec": {
   "display_name": "Python 2",
   "language": "python",
   "name": "python2"
  },
  "language_info": {
   "codemirror_mode": {
    "name": "ipython",
    "version": 3
   },
   "file_extension": ".py",
   "mimetype": "text/x-python",
   "name": "python",
   "nbconvert_exporter": "python",
   "pygments_lexer": "ipython3",
   "version": "3.6.5"
  }
 },
 "nbformat": 4,
 "nbformat_minor": 2
}
